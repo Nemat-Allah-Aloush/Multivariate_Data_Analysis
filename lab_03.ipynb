{
 "cells": [
  {
   "cell_type": "code",
   "execution_count": 1,
   "metadata": {},
   "outputs": [
    {
     "name": "stderr",
     "output_type": "stream",
     "text": [
      "C:\\Users\\User\\AppData\\Roaming\\Python\\Python37\\site-packages\\matplotlib\\docstring.py:92: MatplotlibDeprecationWarning: The dedent function was deprecated in Matplotlib 3.1 and will be removed two minor releases later. Use inspect.cleandoc instead.\n",
      "  func.__doc__ = func.__doc__ and cbook.dedent(func.__doc__)\n",
      "C:\\Users\\User\\AppData\\Roaming\\Python\\Python37\\site-packages\\matplotlib\\patches.py:2405: MatplotlibDeprecationWarning: The dedent function was deprecated in Matplotlib 3.1 and will be removed two minor releases later. Use inspect.cleandoc instead.\n",
      "  __doc__ = cbook.dedent(__doc__) % \\\n",
      "C:\\Users\\User\\AppData\\Roaming\\Python\\Python37\\site-packages\\matplotlib\\patches.py:3086: MatplotlibDeprecationWarning: The dedent function was deprecated in Matplotlib 3.1 and will be removed two minor releases later. Use inspect.cleandoc instead.\n",
      "  __doc__ = cbook.dedent(__doc__) % \\\n",
      "C:\\Users\\User\\AppData\\Roaming\\Python\\Python37\\site-packages\\matplotlib\\patches.py:3891: MatplotlibDeprecationWarning: The dedent function was deprecated in Matplotlib 3.1 and will be removed two minor releases later. Use inspect.cleandoc instead.\n",
      "  __doc__ = cbook.dedent(__doc__) % \\\n",
      "C:\\Users\\User\\AppData\\Roaming\\Python\\Python37\\site-packages\\matplotlib\\mlab.py:798: MatplotlibDeprecationWarning: The dedent function was deprecated in Matplotlib 3.1 and will be removed two minor releases later. Use inspect.cleandoc instead.\n",
      "  \"\"\"))\n",
      "C:\\Users\\User\\AppData\\Roaming\\Python\\Python37\\site-packages\\matplotlib\\mlab.py:810: MatplotlibDeprecationWarning: The dedent function was deprecated in Matplotlib 3.1 and will be removed two minor releases later. Use inspect.cleandoc instead.\n",
      "  \"\"\"))\n",
      "C:\\Users\\User\\AppData\\Roaming\\Python\\Python37\\site-packages\\matplotlib\\mlab.py:849: MatplotlibDeprecationWarning: The dedent function was deprecated in Matplotlib 3.1 and will be removed two minor releases later. Use inspect.cleandoc instead.\n",
      "  \"\"\"))\n",
      "C:\\Users\\User\\AppData\\Roaming\\Python\\Python37\\site-packages\\matplotlib\\docstring.py:92: MatplotlibDeprecationWarning: The dedent function was deprecated in Matplotlib 3.1 and will be removed two minor releases later. Use inspect.cleandoc instead.\n",
      "  func.__doc__ = func.__doc__ and cbook.dedent(func.__doc__)\n",
      "C:\\Users\\User\\AppData\\Roaming\\Python\\Python37\\site-packages\\matplotlib\\scale.py:569: MatplotlibDeprecationWarning: The dedent function was deprecated in Matplotlib 3.1 and will be removed two minor releases later. Use inspect.cleandoc instead.\n",
      "  scale_factory.__doc__ = cbook.dedent(scale_factory.__doc__) % \\\n",
      "C:\\Users\\User\\AppData\\Roaming\\Python\\Python37\\site-packages\\matplotlib\\scale.py:591: MatplotlibDeprecationWarning: The dedent function was deprecated in Matplotlib 3.1 and will be removed two minor releases later. Use inspect.cleandoc instead.\n",
      "  class_docs = cbook.dedent(scale_class.__init__.__doc__)\n"
     ]
    }
   ],
   "source": [
    "# Importing required packages \n",
    "import pandas as pd\n",
    "import matplotlib.pyplot as plt #(plotin histograms in cell #3)\n",
    "import numpy as np\n",
    "import scipy.stats as stats\n",
    "import pandas as pd\n",
    "import seaborn as sns\n",
    "#from pomegranate import *\n",
    "from bayesian import *\n",
    "#from bayesian.train_bn import structure_learning, parameter_learning\n",
    "#from preprocess.discretization import get_nodes_type, discretization, code_categories, get_nodes_sign\n",
    "#from bayesian.save_bn import save_structure, save_params, read_structure, read_params\n",
    "#from bayesian.sampling import generate_synthetics\n",
    "#from bayesian.calculate_accuracy import calculate_acc\n",
    "#from external.libpgm.hybayesiannetwork import HyBayesianNetwork\n",
    "#from visualization.visualization import draw_BN\n",
    "\n",
    "from functools import partial"
   ]
  },
  {
   "cell_type": "code",
   "execution_count": 2,
   "metadata": {},
   "outputs": [],
   "source": [
    "# Defining some constants \n",
    "nbins=30"
   ]
  },
  {
   "cell_type": "code",
   "execution_count": 3,
   "metadata": {},
   "outputs": [],
   "source": [
    "# Reading Data \n",
    "energydata = pd.read_csv(\"./energydata_complete.csv\")\n",
    "# Creating subsamples    \n",
    "# Choosing 10 continous colomns, 'T6','T2','T_out' are the target variables\n",
    "sample_energydata=energydata[[ 'T1', 'T4', 'T5', 'RH_3','RH_7','RH_9', 'RH_out','T6','T2','T_out']] \n",
    "df_sample_colomn_energydata = pd.DataFrame(sample_energydata)"
   ]
  },
  {
   "cell_type": "markdown",
   "metadata": {},
   "source": [
    "## Step 01 : Sampling of chosen target variables : T2, T_out and Appliance"
   ]
  },
  {
   "cell_type": "markdown",
   "metadata": {},
   "source": [
    "### Inverse transform sampling"
   ]
  },
  {
   "cell_type": "code",
   "execution_count": 4,
   "metadata": {},
   "outputs": [],
   "source": [
    "def Inverse_Sampling(dist_fun, column, column_name, num):\n",
    "    dist_par = dist_fun.fit(column)\n",
    "    rand = np.random.uniform(size=num)\n",
    "    sampled = dist_fun(*dist_par)\n",
    "    sampled_app= sampled.ppf(rand) # ppf returns Inverse cumulative density function (ICDF)\n",
    "    plt.figure()\n",
    "    sns.distplot(column, kde=True)\n",
    "    sns.distplot(sampled_app,kde=True, norm_hist=True)\n",
    "    plt.title('Inverse Transform Sampling for '+ column_name)\n",
    "    plt.legend(['Original Data', 'Sampled Data'])"
   ]
  },
  {
   "cell_type": "code",
   "execution_count": 5,
   "metadata": {},
   "outputs": [
    {
     "name": "stderr",
     "output_type": "stream",
     "text": [
      "C:\\Program Files (x86)\\Microsoft Visual Studio\\Shared\\Python37_64\\lib\\site-packages\\seaborn\\distributions.py:2619: FutureWarning: `distplot` is a deprecated function and will be removed in a future version. Please adapt your code to use either `displot` (a figure-level function with similar flexibility) or `histplot` (an axes-level function for histograms).\n",
      "  warnings.warn(msg, FutureWarning)\n",
      "C:\\Users\\User\\AppData\\Roaming\\Python\\Python37\\site-packages\\matplotlib\\cbook\\__init__.py:1418: FutureWarning: Support for multi-dimensional indexing (e.g. `obj[:, None]`) is deprecated and will be removed in a future version.  Convert to a numpy array before indexing instead.\n",
      "  x[:, None]\n",
      "C:\\Users\\User\\AppData\\Roaming\\Python\\Python37\\site-packages\\matplotlib\\axes\\_base.py:237: FutureWarning: Support for multi-dimensional indexing (e.g. `obj[:, None]`) is deprecated and will be removed in a future version.  Convert to a numpy array before indexing instead.\n",
      "  x = x[:, np.newaxis]\n",
      "C:\\Users\\User\\AppData\\Roaming\\Python\\Python37\\site-packages\\matplotlib\\axes\\_base.py:239: FutureWarning: Support for multi-dimensional indexing (e.g. `obj[:, None]`) is deprecated and will be removed in a future version.  Convert to a numpy array before indexing instead.\n",
      "  y = y[:, np.newaxis]\n",
      "C:\\Program Files (x86)\\Microsoft Visual Studio\\Shared\\Python37_64\\lib\\site-packages\\seaborn\\distributions.py:2619: FutureWarning: `distplot` is a deprecated function and will be removed in a future version. Please adapt your code to use either `displot` (a figure-level function with similar flexibility) or `histplot` (an axes-level function for histograms).\n",
      "  warnings.warn(msg, FutureWarning)\n",
      "C:\\Users\\User\\AppData\\Roaming\\Python\\Python37\\site-packages\\matplotlib\\cbook\\__init__.py:1418: FutureWarning: Support for multi-dimensional indexing (e.g. `obj[:, None]`) is deprecated and will be removed in a future version.  Convert to a numpy array before indexing instead.\n",
      "  x[:, None]\n",
      "C:\\Users\\User\\AppData\\Roaming\\Python\\Python37\\site-packages\\matplotlib\\axes\\_base.py:237: FutureWarning: Support for multi-dimensional indexing (e.g. `obj[:, None]`) is deprecated and will be removed in a future version.  Convert to a numpy array before indexing instead.\n",
      "  x = x[:, np.newaxis]\n",
      "C:\\Users\\User\\AppData\\Roaming\\Python\\Python37\\site-packages\\matplotlib\\axes\\_base.py:239: FutureWarning: Support for multi-dimensional indexing (e.g. `obj[:, None]`) is deprecated and will be removed in a future version.  Convert to a numpy array before indexing instead.\n",
      "  y = y[:, np.newaxis]\n"
     ]
    },
    {
     "data": {
      "image/png": "[encoded data removed]",
      "text/plain": [
       "<Figure size 432x288 with 1 Axes>"
      ]
     },
     "metadata": {
      "needs_background": "light"
     },
     "output_type": "display_data"
    }
   ],
   "source": [
    "Inverse_Sampling(stats.exponnorm, df_sample_colomn_energydata['T6'], \"T6\", len(df_sample_colomn_energydata['T6']))"
   ]
  },
  {
   "cell_type": "code",
   "execution_count": 32,
   "metadata": {},
   "outputs": [
    {
     "name": "stderr",
     "output_type": "stream",
     "text": [
      "C:\\Users\\User\\AppData\\Roaming\\Python\\Python37\\site-packages\\seaborn\\distributions.py:2619: FutureWarning: `distplot` is a deprecated function and will be removed in a future version. Please adapt your code to use either `displot` (a figure-level function with similar flexibility) or `histplot` (an axes-level function for histograms).\n",
      "  warnings.warn(msg, FutureWarning)\n",
      "C:\\Users\\User\\AppData\\Roaming\\Python\\Python37\\site-packages\\seaborn\\distributions.py:2619: FutureWarning: `distplot` is a deprecated function and will be removed in a future version. Please adapt your code to use either `displot` (a figure-level function with similar flexibility) or `histplot` (an axes-level function for histograms).\n",
      "  warnings.warn(msg, FutureWarning)\n"
     ]
    },
    {
     "data": {
      "image/png": "[encoded data removed]",
      "text/plain": [
       "<Figure size 432x288 with 1 Axes>"
      ]
     },
     "metadata": {
      "needs_background": "light"
     },
     "output_type": "display_data"
    }
   ],
   "source": [
    "Inverse_Sampling(stats.exponnorm, df_sample_colomn_energydata['T_out'], 'T_out', 1500)"
   ]
  },
  {
   "cell_type": "code",
   "execution_count": 35,
   "metadata": {},
   "outputs": [
    {
     "name": "stderr",
     "output_type": "stream",
     "text": [
      "C:\\Users\\User\\AppData\\Roaming\\Python\\Python37\\site-packages\\seaborn\\distributions.py:2619: FutureWarning: `distplot` is a deprecated function and will be removed in a future version. Please adapt your code to use either `displot` (a figure-level function with similar flexibility) or `histplot` (an axes-level function for histograms).\n",
      "  warnings.warn(msg, FutureWarning)\n",
      "C:\\Users\\User\\AppData\\Roaming\\Python\\Python37\\site-packages\\seaborn\\distributions.py:2619: FutureWarning: `distplot` is a deprecated function and will be removed in a future version. Please adapt your code to use either `displot` (a figure-level function with similar flexibility) or `histplot` (an axes-level function for histograms).\n",
      "  warnings.warn(msg, FutureWarning)\n"
     ]
    },
    {
     "data": {
      "image/png": "[encoded data removed]",
      "text/plain": [
       "<Figure size 432x288 with 1 Axes>"
      ]
     },
     "metadata": {
      "needs_background": "light"
     },
     "output_type": "display_data"
    }
   ],
   "source": [
    "Inverse_Sampling(stats.lognorm, df_sample_colomn_energydata['T2'], 'T2', 1500)"
   ]
  },
  {
   "cell_type": "markdown",
   "metadata": {},
   "source": [
    "### Accept-Reject sampling\n"
   ]
  },
  {
   "cell_type": "code",
   "execution_count": 14,
   "metadata": {},
   "outputs": [],
   "source": [
    "def f(x, mu_, sigma_):\n",
    "    exp = np.exp(-(np.log(x) - mu_)**2 / (2 * sigma_ ** 2))\n",
    "    frac = (x * sigma_ * (2 * np.pi) ** 0.5)\n",
    "    return exp / frac"
   ]
  },
  {
   "cell_type": "code",
   "execution_count": 16,
   "metadata": {},
   "outputs": [],
   "source": [
    "def g(x, mu, sigma):\n",
    "    return 1/np.sqrt(2*np.pi)/sigma * np.exp(-0.5*((x-mu)/sigma)**2)"
   ]
  },
  {
   "cell_type": "code",
   "execution_count": 19,
   "metadata": {},
   "outputs": [
    {
     "name": "stderr",
     "output_type": "stream",
     "text": [
      "C:\\Users\\User\\AppData\\Roaming\\Python\\Python37\\site-packages\\ipykernel_launcher.py:2: RuntimeWarning: divide by zero encountered in log\n",
      "  \n",
      "C:\\Users\\User\\AppData\\Roaming\\Python\\Python37\\site-packages\\ipykernel_launcher.py:4: RuntimeWarning: invalid value encountered in double_scalars\n",
      "  after removing the cwd from sys.path.\n"
     ]
    },
    {
     "data": {
      "text/plain": [
       "<matplotlib.lines.Line2D at 0x1dd3c68b248>"
      ]
     },
     "execution_count": 19,
     "metadata": {},
     "output_type": "execute_result"
    },
    {
     "data": {
      "image/png": "[encoded data removed]",
      "text/plain": [
       "<Figure size 864x432 with 1 Axes>"
      ]
     },
     "metadata": {
      "needs_background": "light"
     },
     "output_type": "display_data"
    }
   ],
   "source": [
    "x_vals =  np.arange(0,60,.1)\n",
    "f_vals = [f(x,0.1,0.8) for x in x_vals]\n",
    "p_vals =  g (x_vals,0.1,0.9) #[f/NORM_CONST for f in f_vals]\n",
    "\n",
    "plt.figure(figsize=(12,6))\n",
    "plt.plot(x_vals, f_vals)\n",
    "\n",
    "plt.plot(x_vals, p_vals)\n",
    "plt.legend(['t(x)', 'f(x)'], fontsize = 18)\n",
    "plt.xlabel('x', fontsize = 18)\n",
    "plt.ylabel('t(x)', fontsize = 18)\n",
    "plt.axvline(0, color='b', linestyle='--')"
   ]
  },
  {
   "cell_type": "code",
   "execution_count": 246,
   "metadata": {},
   "outputs": [
    {
     "data": {
      "text/plain": [
       "Text(0.5, 1.0, 'M=30')"
      ]
     },
     "execution_count": 246,
     "metadata": {},
     "output_type": "execute_result"
    },
    {
     "data": {
      "image/png": "[encoded data removed]",
      "text/plain": [
       "<Figure size 720x288 with 1 Axes>"
      ]
     },
     "metadata": {
      "needs_background": "light"
     },
     "output_type": "display_data"
    }
   ],
   "source": [
    "M=30\n",
    "plt.figure(figsize=(10,4))\n",
    "plt.plot(x_vals, f_vals)\n",
    "plt.plot(x_vals, M*p_vals)\n",
    "plt.xlabel('x', fontsize=20)\n",
    "plt.ylabel('Density', fontsize=20)\n",
    "plt.legend(['t(x)', 'S*h(x)'], fontsize=20)\n",
    "\n",
    "plt.title(\"M=%s\"%M, fontsize=20)"
   ]
  },
  {
   "cell_type": "code",
   "execution_count": 247,
   "metadata": {},
   "outputs": [
    {
     "name": "stderr",
     "output_type": "stream",
     "text": [
      "C:\\Users\\User\\AppData\\Roaming\\Python\\Python37\\site-packages\\ipykernel_launcher.py:2: RuntimeWarning: invalid value encountered in log\n",
      "  \n"
     ]
    }
   ],
   "source": [
    "#collect all accepted samples here\n",
    "samples = []\n",
    "\n",
    "#try this many candidates\n",
    "N = 100000\n",
    "\n",
    "for _ in range(N):\n",
    "    #sample a candidate\n",
    "    candidate = np.random.normal(0, 0.8)\n",
    "    \n",
    "    #calculate probability of accepting this candidate\n",
    "    prob_accept = f(candidate,0.1,0.8) / (M*g(candidate, 0.1, 0.9))\n",
    "    \n",
    "    #accept with the calculated probability\n",
    "    if np.random.random() < prob_accept:\n",
    "        samples.append(candidate)"
   ]
  },
  {
   "cell_type": "code",
   "execution_count": 249,
   "metadata": {},
   "outputs": [
    {
     "name": "stderr",
     "output_type": "stream",
     "text": [
      "C:\\Users\\User\\AppData\\Roaming\\Python\\Python37\\site-packages\\ipykernel_launcher.py:2: RuntimeWarning: invalid value encountered in log\n",
      "  \n"
     ]
    },
    {
     "name": "stdout",
     "output_type": "stream",
     "text": [
      "Num Samples Collected: 2637\n",
      "Efficiency: 0.026\n"
     ]
    },
    {
     "data": {
      "image/png": "[encoded data removed]",
      "text/plain": [
       "<Figure size 720x288 with 1 Axes>"
      ]
     },
     "metadata": {
      "needs_background": "light"
     },
     "output_type": "display_data"
    }
   ],
   "source": [
    "# collect all accepted samples here\n",
    "samples = []\n",
    "\n",
    "# try this many candidates\n",
    "N = 100000\n",
    "\n",
    "for _ in range(N):\n",
    "    # sample a candidate\n",
    "    candidate = np.random.normal(0.1,0.8)\n",
    "\n",
    "    # calculate probability of accepting this candidate\n",
    "    prob_accept = f(candidate, 0.1, 0.8) / (M*g(candidate, 0.1,0.9))\n",
    "\n",
    "    # accept with the calculated probability\n",
    "    if np.random.random() < prob_accept:\n",
    "        samples.append(candidate)\n",
    "\n",
    "plt.figure(figsize=(10, 4))\n",
    "plt.hist(samples, bins=200, density=True)\n",
    "plt.xlabel('x', fontsize=20)\n",
    "plt.xlabel('Density', fontsize=20)\n",
    "plt.plot(x_vals, [f for f in f_vals], linewidth=2)\n",
    "# plt.ylim(0, 0.015)\n",
    "print(\"Num Samples Collected: %s\"%len(samples))\n",
    "print(\"Efficiency: %s\"%round(len(samples) / N, 3))\n",
    "# .title('Empirical Exp. Value: %s\\nTrue Exp. Value: %s'%(round(np.mean(samples), 2), round(np.mean(TRUE_EXP), 2)), fontsize=20)"
   ]
  },
  {
   "cell_type": "markdown",
   "metadata": {},
   "source": [
    "## Step 02 relations between predictors and chosen target "
   ]
  },
  {
   "cell_type": "code",
   "execution_count": 275,
   "metadata": {},
   "outputs": [
    {
     "data": {
      "text/html": [
       "<div>\n",
       "<style scoped>\n",
       "    .dataframe tbody tr th:only-of-type {\n",
       "        vertical-align: middle;\n",
       "    }\n",
       "\n",
       "    .dataframe tbody tr th {\n",
       "        vertical-align: top;\n",
       "    }\n",
       "\n",
       "    .dataframe thead th {\n",
       "        text-align: right;\n",
       "    }\n",
       "</style>\n",
       "<table border=\"1\" class=\"dataframe\">\n",
       "  <thead>\n",
       "    <tr style=\"text-align: right;\">\n",
       "      <th></th>\n",
       "      <th>T1</th>\n",
       "      <th>T4</th>\n",
       "      <th>T5</th>\n",
       "      <th>RH_3</th>\n",
       "      <th>RH_7</th>\n",
       "      <th>RH_9</th>\n",
       "      <th>RH_out</th>\n",
       "      <th>T6</th>\n",
       "      <th>RH_2</th>\n",
       "      <th>T2</th>\n",
       "      <th>T_out</th>\n",
       "    </tr>\n",
       "  </thead>\n",
       "  <tbody>\n",
       "    <tr>\n",
       "      <th>T1</th>\n",
       "      <td>1.000000</td>\n",
       "      <td>0.877001</td>\n",
       "      <td>0.885247</td>\n",
       "      <td>-0.028550</td>\n",
       "      <td>0.135182</td>\n",
       "      <td>0.071756</td>\n",
       "      <td>-0.345481</td>\n",
       "      <td>0.654769</td>\n",
       "      <td>-0.002509</td>\n",
       "      <td>0.836834</td>\n",
       "      <td>0.682854</td>\n",
       "    </tr>\n",
       "    <tr>\n",
       "      <th>T4</th>\n",
       "      <td>0.877001</td>\n",
       "      <td>1.000000</td>\n",
       "      <td>0.871813</td>\n",
       "      <td>-0.140457</td>\n",
       "      <td>0.043527</td>\n",
       "      <td>-0.025549</td>\n",
       "      <td>-0.388602</td>\n",
       "      <td>0.652350</td>\n",
       "      <td>-0.047304</td>\n",
       "      <td>0.762066</td>\n",
       "      <td>0.663479</td>\n",
       "    </tr>\n",
       "    <tr>\n",
       "      <th>T5</th>\n",
       "      <td>0.885247</td>\n",
       "      <td>0.871813</td>\n",
       "      <td>1.000000</td>\n",
       "      <td>-0.050062</td>\n",
       "      <td>0.148905</td>\n",
       "      <td>0.072308</td>\n",
       "      <td>-0.273953</td>\n",
       "      <td>0.629161</td>\n",
       "      <td>0.110409</td>\n",
       "      <td>0.720550</td>\n",
       "      <td>0.651335</td>\n",
       "    </tr>\n",
       "    <tr>\n",
       "      <th>RH_3</th>\n",
       "      <td>-0.028550</td>\n",
       "      <td>-0.140457</td>\n",
       "      <td>-0.050062</td>\n",
       "      <td>1.000000</td>\n",
       "      <td>0.832685</td>\n",
       "      <td>0.833538</td>\n",
       "      <td>0.356192</td>\n",
       "      <td>0.076833</td>\n",
       "      <td>0.678326</td>\n",
       "      <td>0.121497</td>\n",
       "      <td>0.118237</td>\n",
       "    </tr>\n",
       "    <tr>\n",
       "      <th>RH_7</th>\n",
       "      <td>0.135182</td>\n",
       "      <td>0.043527</td>\n",
       "      <td>0.148905</td>\n",
       "      <td>0.832685</td>\n",
       "      <td>1.000000</td>\n",
       "      <td>0.858686</td>\n",
       "      <td>0.378519</td>\n",
       "      <td>0.256077</td>\n",
       "      <td>0.690584</td>\n",
       "      <td>0.229212</td>\n",
       "      <td>0.294222</td>\n",
       "    </tr>\n",
       "    <tr>\n",
       "      <th>RH_9</th>\n",
       "      <td>0.071756</td>\n",
       "      <td>-0.025549</td>\n",
       "      <td>0.072308</td>\n",
       "      <td>0.833538</td>\n",
       "      <td>0.858686</td>\n",
       "      <td>1.000000</td>\n",
       "      <td>0.359377</td>\n",
       "      <td>0.184424</td>\n",
       "      <td>0.676467</td>\n",
       "      <td>0.157346</td>\n",
       "      <td>0.223282</td>\n",
       "    </tr>\n",
       "    <tr>\n",
       "      <th>RH_out</th>\n",
       "      <td>-0.345481</td>\n",
       "      <td>-0.388602</td>\n",
       "      <td>-0.273953</td>\n",
       "      <td>0.356192</td>\n",
       "      <td>0.378519</td>\n",
       "      <td>0.359377</td>\n",
       "      <td>1.000000</td>\n",
       "      <td>-0.569119</td>\n",
       "      <td>0.584911</td>\n",
       "      <td>-0.505291</td>\n",
       "      <td>-0.574186</td>\n",
       "    </tr>\n",
       "    <tr>\n",
       "      <th>T6</th>\n",
       "      <td>0.654769</td>\n",
       "      <td>0.652350</td>\n",
       "      <td>0.629161</td>\n",
       "      <td>0.076833</td>\n",
       "      <td>0.256077</td>\n",
       "      <td>0.184424</td>\n",
       "      <td>-0.569119</td>\n",
       "      <td>1.000000</td>\n",
       "      <td>-0.009670</td>\n",
       "      <td>0.801186</td>\n",
       "      <td>0.974778</td>\n",
       "    </tr>\n",
       "    <tr>\n",
       "      <th>RH_2</th>\n",
       "      <td>-0.002509</td>\n",
       "      <td>-0.047304</td>\n",
       "      <td>0.110409</td>\n",
       "      <td>0.678326</td>\n",
       "      <td>0.690584</td>\n",
       "      <td>0.676467</td>\n",
       "      <td>0.584911</td>\n",
       "      <td>-0.009670</td>\n",
       "      <td>1.000000</td>\n",
       "      <td>-0.165610</td>\n",
       "      <td>0.033703</td>\n",
       "    </tr>\n",
       "    <tr>\n",
       "      <th>T2</th>\n",
       "      <td>0.836834</td>\n",
       "      <td>0.762066</td>\n",
       "      <td>0.720550</td>\n",
       "      <td>0.121497</td>\n",
       "      <td>0.229212</td>\n",
       "      <td>0.157346</td>\n",
       "      <td>-0.505291</td>\n",
       "      <td>0.801186</td>\n",
       "      <td>-0.165610</td>\n",
       "      <td>1.000000</td>\n",
       "      <td>0.792247</td>\n",
       "    </tr>\n",
       "    <tr>\n",
       "      <th>T_out</th>\n",
       "      <td>0.682854</td>\n",
       "      <td>0.663479</td>\n",
       "      <td>0.651335</td>\n",
       "      <td>0.118237</td>\n",
       "      <td>0.294222</td>\n",
       "      <td>0.223282</td>\n",
       "      <td>-0.574186</td>\n",
       "      <td>0.974778</td>\n",
       "      <td>0.033703</td>\n",
       "      <td>0.792247</td>\n",
       "      <td>1.000000</td>\n",
       "    </tr>\n",
       "  </tbody>\n",
       "</table>\n",
       "</div>"
      ],
      "text/plain": [
       "              T1        T4        T5      RH_3      RH_7      RH_9    RH_out  \\\n",
       "T1      1.000000  0.877001  0.885247 -0.028550  0.135182  0.071756 -0.345481   \n",
       "T4      0.877001  1.000000  0.871813 -0.140457  0.043527 -0.025549 -0.388602   \n",
       "T5      0.885247  0.871813  1.000000 -0.050062  0.148905  0.072308 -0.273953   \n",
       "RH_3   -0.028550 -0.140457 -0.050062  1.000000  0.832685  0.833538  0.356192   \n",
       "RH_7    0.135182  0.043527  0.148905  0.832685  1.000000  0.858686  0.378519   \n",
       "RH_9    0.071756 -0.025549  0.072308  0.833538  0.858686  1.000000  0.359377   \n",
       "RH_out -0.345481 -0.388602 -0.273953  0.356192  0.378519  0.359377  1.000000   \n",
       "T6      0.654769  0.652350  0.629161  0.076833  0.256077  0.184424 -0.569119   \n",
       "RH_2   -0.002509 -0.047304  0.110409  0.678326  0.690584  0.676467  0.584911   \n",
       "T2      0.836834  0.762066  0.720550  0.121497  0.229212  0.157346 -0.505291   \n",
       "T_out   0.682854  0.663479  0.651335  0.118237  0.294222  0.223282 -0.574186   \n",
       "\n",
       "              T6      RH_2        T2     T_out  \n",
       "T1      0.654769 -0.002509  0.836834  0.682854  \n",
       "T4      0.652350 -0.047304  0.762066  0.663479  \n",
       "T5      0.629161  0.110409  0.720550  0.651335  \n",
       "RH_3    0.076833  0.678326  0.121497  0.118237  \n",
       "RH_7    0.256077  0.690584  0.229212  0.294222  \n",
       "RH_9    0.184424  0.676467  0.157346  0.223282  \n",
       "RH_out -0.569119  0.584911 -0.505291 -0.574186  \n",
       "T6      1.000000 -0.009670  0.801186  0.974778  \n",
       "RH_2   -0.009670  1.000000 -0.165610  0.033703  \n",
       "T2      0.801186 -0.165610  1.000000  0.792247  \n",
       "T_out   0.974778  0.033703  0.792247  1.000000  "
      ]
     },
     "execution_count": 275,
     "metadata": {},
     "output_type": "execute_result"
    }
   ],
   "source": [
    "df_sample_colomn_energydata.corr()"
   ]
  },
  {
   "cell_type": "markdown",
   "metadata": {},
   "source": [
    "## Step 04 Bayesian network for chosen set of variables. Choose its structure on the basis of multivariate analysis and train distributions in nodes using chosen algorithm"
   ]
  },
  {
   "cell_type": "code",
   "execution_count": 285,
   "metadata": {},
   "outputs": [],
   "source": [
    "from pgmpy.models import BayesianModel\n",
    "from pgmpy.inference import VariableElimination"
   ]
  },
  {
   "cell_type": "code",
   "execution_count": 306,
   "metadata": {},
   "outputs": [],
   "source": [
    "names=['T1', 'T4', 'T5', 'RH_3','RH_7','RH_9', 'RH_out','T6','T2','T_out']\n",
    "bayes_manual = dict(\n",
    "    {'V': ['T1', 'T4', 'T5', 'RH_3','RH_7','RH_9', 'RH_out','T6','T2','T_out'],\n",
    "     'E': [   \n",
    "        ['T_out', 'T6'],\n",
    "        ['T2', 'T6'],\n",
    "        ['T4', 'T6'],\n",
    "\n",
    "        ['T1', 'T2'],\n",
    "        ['T6', 'T2'],\n",
    "        ['T_out', 'T2'],\n",
    "        ['T4', 'T2'],\n",
    "        ['T5', 'T2'],\n",
    "\n",
    "\n",
    "        ['T2', 'T_out'],\n",
    "        ['T6', 'T_out'],\n",
    "        ['T1', \"T_out\"],\n",
    "        ['T4', \"T_out\"],\n",
    "        ['T5', \"T_out\"]\n",
    "    ]\n",
    "    }\n",
    ")\n",
    "model=BayesianModel([   \n",
    "        ['T_out', 'T6'],\n",
    "        ['T2', 'T6'],\n",
    "        ['T4', 'T6'],\n",
    "        ['T1', 'T2'],\n",
    "        ['T2', 'T_out'],\n",
    "        ['T1', 'T_out'],\n",
    "    ])"
   ]
  },
  {
   "cell_type": "code",
   "execution_count": 307,
   "metadata": {},
   "outputs": [
    {
     "ename": "ValueError",
     "evalue": "No CPD associated with T_out",
     "output_type": "error",
     "traceback": [
      "\u001b[1;31m---------------------------------------------------------------------------\u001b[0m",
      "\u001b[1;31mValueError\u001b[0m                                Traceback (most recent call last)",
      "\u001b[1;32m~\\AppData\\Local\\Temp/ipykernel_22136/1580837706.py\u001b[0m in \u001b[0;36m<module>\u001b[1;34m\u001b[0m\n\u001b[1;32m----> 1\u001b[1;33m \u001b[0minfer\u001b[0m\u001b[1;33m=\u001b[0m\u001b[0mVariableElimination\u001b[0m\u001b[1;33m(\u001b[0m\u001b[0mmodel\u001b[0m\u001b[1;33m)\u001b[0m\u001b[1;33m\u001b[0m\u001b[1;33m\u001b[0m\u001b[0m\n\u001b[0m",
      "\u001b[1;32m~\\AppData\\Roaming\\Python\\Python37\\site-packages\\pgmpy\\inference\\base.py\u001b[0m in \u001b[0;36m__init__\u001b[1;34m(self, model)\u001b[0m\n\u001b[0;32m     63\u001b[0m     \u001b[1;32mdef\u001b[0m \u001b[0m__init__\u001b[0m\u001b[1;33m(\u001b[0m\u001b[0mself\u001b[0m\u001b[1;33m,\u001b[0m \u001b[0mmodel\u001b[0m\u001b[1;33m)\u001b[0m\u001b[1;33m:\u001b[0m\u001b[1;33m\u001b[0m\u001b[1;33m\u001b[0m\u001b[0m\n\u001b[0;32m     64\u001b[0m         \u001b[0mself\u001b[0m\u001b[1;33m.\u001b[0m\u001b[0mmodel\u001b[0m \u001b[1;33m=\u001b[0m \u001b[0mmodel\u001b[0m\u001b[1;33m\u001b[0m\u001b[1;33m\u001b[0m\u001b[0m\n\u001b[1;32m---> 65\u001b[1;33m         \u001b[0mmodel\u001b[0m\u001b[1;33m.\u001b[0m\u001b[0mcheck_model\u001b[0m\u001b[1;33m(\u001b[0m\u001b[1;33m)\u001b[0m\u001b[1;33m\u001b[0m\u001b[1;33m\u001b[0m\u001b[0m\n\u001b[0m\u001b[0;32m     66\u001b[0m \u001b[1;33m\u001b[0m\u001b[0m\n\u001b[0;32m     67\u001b[0m         \u001b[1;32mif\u001b[0m \u001b[0misinstance\u001b[0m\u001b[1;33m(\u001b[0m\u001b[0mself\u001b[0m\u001b[1;33m.\u001b[0m\u001b[0mmodel\u001b[0m\u001b[1;33m,\u001b[0m \u001b[0mJunctionTree\u001b[0m\u001b[1;33m)\u001b[0m\u001b[1;33m:\u001b[0m\u001b[1;33m\u001b[0m\u001b[1;33m\u001b[0m\u001b[0m\n",
      "\u001b[1;32m~\\AppData\\Roaming\\Python\\Python37\\site-packages\\pgmpy\\models\\BayesianNetwork.py\u001b[0m in \u001b[0;36mcheck_model\u001b[1;34m(self)\u001b[0m\n\u001b[0;32m    389\u001b[0m \u001b[1;33m\u001b[0m\u001b[0m\n\u001b[0;32m    390\u001b[0m             \u001b[1;32mif\u001b[0m \u001b[0mcpd\u001b[0m \u001b[1;32mis\u001b[0m \u001b[1;32mNone\u001b[0m\u001b[1;33m:\u001b[0m\u001b[1;33m\u001b[0m\u001b[1;33m\u001b[0m\u001b[0m\n\u001b[1;32m--> 391\u001b[1;33m                 \u001b[1;32mraise\u001b[0m \u001b[0mValueError\u001b[0m\u001b[1;33m(\u001b[0m\u001b[1;34mf\"No CPD associated with {node}\"\u001b[0m\u001b[1;33m)\u001b[0m\u001b[1;33m\u001b[0m\u001b[1;33m\u001b[0m\u001b[0m\n\u001b[0m\u001b[0;32m    392\u001b[0m             \u001b[1;32melif\u001b[0m \u001b[0misinstance\u001b[0m\u001b[1;33m(\u001b[0m\u001b[0mcpd\u001b[0m\u001b[1;33m,\u001b[0m \u001b[1;33m(\u001b[0m\u001b[0mTabularCPD\u001b[0m\u001b[1;33m,\u001b[0m \u001b[0mContinuousFactor\u001b[0m\u001b[1;33m)\u001b[0m\u001b[1;33m)\u001b[0m\u001b[1;33m:\u001b[0m\u001b[1;33m\u001b[0m\u001b[1;33m\u001b[0m\u001b[0m\n\u001b[0;32m    393\u001b[0m                 \u001b[0mevidence\u001b[0m \u001b[1;33m=\u001b[0m \u001b[0mcpd\u001b[0m\u001b[1;33m.\u001b[0m\u001b[0mget_evidence\u001b[0m\u001b[1;33m(\u001b[0m\u001b[1;33m)\u001b[0m\u001b[1;33m\u001b[0m\u001b[1;33m\u001b[0m\u001b[0m\n",
      "\u001b[1;31mValueError\u001b[0m: No CPD associated with T_out"
     ]
    }
   ],
   "source": [
    "infer=VariableElimination(model)"
   ]
  },
  {
   "cell_type": "code",
   "execution_count": null,
   "metadata": {},
   "outputs": [],
   "source": [
    "names=['T1', 'T4', 'T5', 'RH_3','RH_7','RH_9', 'RH_out','T6','T2','T_out')\n",
    "bayes_manual = dict(\n",
    "    {'V': ['T1', 'T4', 'T5', 'RH_3','RH_7','RH_9', 'RH_out','T6','T2','T_out'],\n",
    "     'E': [    'T6','T2','T_out'\n",
    "        ['T_out', 'T6'],\n",
    "        ['T2', 'T6'],\n",
    "        ['T4', 'T6'],\n",
    "\n",
    "        ['52 Week High', 'T2'],\n",
    "        ['52 Week Low', 'T2'],\n",
    "        ['Price', 'T2'],\n",
    "\n",
    "\n",
    "        ['52 Week High', 'T_out'],\n",
    "        ['Price/Sales', 'T_out'],\n",
    "        ['Price', \"T_out\"]\n",
    "    ]\n",
    "    }\n",
    ")"
   ]
  },
  {
   "cell_type": "markdown",
   "metadata": {},
   "source": [
    "## Step 05"
   ]
  },
  {
   "cell_type": "code",
   "execution_count": null,
   "metadata": {},
   "outputs": [],
   "source": [
    "coded_data, coder = code_categories(\n",
    "    data, 'label', ['Sector'])\n",
    "discrete_data, coder = discretization(coded_data, 'equal_frequency',\n",
    "                                      ['Price',\t'Price/Earnings', 'Dividend Yield',\t'Earnings/Share',\n",
    "                                       '52 Week Low',\t'52 Week High',\t'Market Cap',\t'EBITDA',\n",
    "                                       'Price/Sales',\t'Price/Book'])\n",
    "bayes_hc = structure_learning(discrete_data, 'HC', nodes_type, 'K2')\n",
    "print(\"Obtained network structure\", bayes_hc)\n",
    "draw_BN(bayes_hc, nodes_type, 's&p_bayes_hc')\n",
    "\n",
    "\n",
    "params = parameter_learning(data, nodes_type, bayes_hc, 'simple')\n",
    "save_structure(bayes_hc, 's&p_bayes_hc_structure')\n",
    "skel = read_structure('s&p_bayes_hc_structure')\n",
    "save_params(params, 'p_bayes_hc_params')\n",
    "params = read_params('p_bayes_hc_params')\n",
    "bayes_hc = HyBayesianNetwork(skel, params)\n",
    "synth_df = generate_synthetics(bayes_hc, nodes_sign, 'simple', 800)\n",
    "\n",
    "fix, ax = plt.subplots(3, 1, figsize=(10, 12))\n",
    "\n",
    "sns.distplot(data['Price'], ax=ax[0])\n",
    "sns.distplot(synth_df['Price'], ax=ax[0])\n",
    "ax[0].legend(['Real data', 'Synthesized data'])\n",
    "\n",
    "sns.distplot(data['Dividend Yield'], ax=ax[1])\n",
    "sns.distplot(synth_df['Dividend Yield'], ax=ax[1])\n",
    "ax[1].legend(['Real data', 'Synthesized data'])\n",
    "\n",
    "sns.distplot(data['Earnings/Share'], ax=ax[2])\n",
    "sns.distplot(synth_df['Earnings/Share'], ax=ax[2])\n",
    "ax[2].legend(['Real data', 'Synthesized data'])\n",
    "\n",
    "print(calculate_acc(bayes_hc, data, [\n",
    "      'Price', 'Dividend Yield', 'Earnings/Share'], 'simple')[0:2])"
   ]
  }
 ],
 "metadata": {
  "interpreter": {
   "hash": "57baa5815c940fdaff4d14510622de9616cae602444507ba5d0b6727c008cbd6"
  },
  "kernelspec": {
   "display_name": "Python 3.7.8 64-bit",
   "name": "python3"
  },
  "language_info": {
   "codemirror_mode": {
    "name": "ipython",
    "version": 3
   },
   "file_extension": ".py",
   "mimetype": "text/x-python",
   "name": "python",
   "nbconvert_exporter": "python",
   "pygments_lexer": "ipython3",
   "version": "3.7.8"
  },
  "orig_nbformat": 4
 },
 "nbformat": 4,
 "nbformat_minor": 2
}
