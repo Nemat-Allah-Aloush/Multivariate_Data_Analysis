{
 "cells": [
  {
   "cell_type": "code",
   "execution_count": null,
   "metadata": {},
   "outputs": [],
   "source": [
    "# Importing required packages \n",
    "import pandas as pd\n",
    "import matplotlib.pyplot as plt #(plotin histograms in cell #3)\n",
    "import numpy as np\n",
    "from scipy.stats import kde\n",
    "from tabulate import tabulate\n",
    "import scipy.stats as stats\n",
    "import pandas as pd\n",
    "from scipy.stats._continuous_distns import _distn_names\n",
    "from sklearn.impute import SimpleImputer\n",
    "from sklearn.preprocessing import MinMaxScaler\n",
    "import scipy.special as sse\n",
    "from scipy.optimize import curve_fit\n",
    "from functools import partial\n",
    "import seaborn as sns\n",
    "from sklearn.impute import SimpleImputer\n",
    "from sklearn.preprocessing import MinMaxScaler, StandardScaler, PolynomialFeatures\n",
    "from sklearn.ensemble import RandomForestRegressor\n",
    "from sklearn.metrics import mean_absolute_error, mean_squared_error, mean_absolute_percentage_error\n",
    "from sklearn.linear_model import LinearRegression,LassoLarsIC, LinearRegression, Ridge, Lasso\n",
    "from sklearn import linear_model\n",
    "from sklearn.model_selection import train_test_split\n",
    "from statsmodels.stats.outliers_influence import variance_inflation_factor"
   ]
  },
  {
   "cell_type": "code",
   "execution_count": null,
   "metadata": {},
   "outputs": [],
   "source": [
    "# Defining some constants \n",
    "nbins=30"
   ]
  },
  {
   "cell_type": "code",
   "execution_count": null,
   "metadata": {},
   "outputs": [],
   "source": [
    "# Reading Data \n",
    "energydata = pd.read_csv(\"./energydata_complete.csv\")\n",
    "# Creating subsamples\n",
    "# Choosing 10 continous colomns, RH_out, T_out and Appliance are the target variables\n",
    "sample_energydata=energydata[[ 'T1','T2', 'T4', 'T5', 'RH9', 'RH_7', 'RH_3', 'RH_out', 'T_out','Appliances']] \n",
    "df_sample_colomn_energydata = pd.DataFrame(sample_energydata)"
   ]
  }
 ],
 "metadata": {
  "interpreter": {
   "hash": "57baa5815c940fdaff4d14510622de9616cae602444507ba5d0b6727c008cbd6"
  },
  "kernelspec": {
   "display_name": "Python 3.7.8 64-bit",
   "name": "python3"
  },
  "language_info": {
   "name": "python",
   "version": "3.7.8"
  },
  "orig_nbformat": 4
 },
 "nbformat": 4,
 "nbformat_minor": 2
}
