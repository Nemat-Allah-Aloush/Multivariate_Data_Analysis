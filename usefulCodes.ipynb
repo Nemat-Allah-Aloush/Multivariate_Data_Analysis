{
 "cells": [
  {
   "cell_type": "code",
   "execution_count": null,
   "metadata": {},
   "outputs": [],
   "source": [
    "#### catching Exception\n",
    "import sys\n",
    "import traceback\n",
    "\n",
    "try:\n",
    "    ans = 1/0\n",
    "except BaseException as ex:\n",
    "    # Get current system exception\n",
    "    ex_type, ex_value, ex_traceback = sys.exc_info()\n",
    "\n",
    "    # Extract unformatter stack traces as tuples\n",
    "    trace_back = traceback.extract_tb(ex_traceback)\n",
    "\n",
    "    # Format stacktrace\n",
    "    stack_trace = list()\n",
    "\n",
    "    for trace in trace_back:\n",
    "        stack_trace.append(\"File : %s , Line : %d, Func.Name : %s, Message : %s\" % (trace[0], trace[1], trace[2], trace[3]))\n",
    "\n",
    "    print(\"Exception type : %s \" % ex_type.__name__)\n",
    "    print(\"Exception message : %s\" %ex_value)\n",
    "    print(\"Stack trace : %s\" %stack_trace)"
   ]
  }
 ],
 "metadata": {
  "language_info": {
   "name": "python"
  },
  "orig_nbformat": 4
 },
 "nbformat": 4,
 "nbformat_minor": 2
}
